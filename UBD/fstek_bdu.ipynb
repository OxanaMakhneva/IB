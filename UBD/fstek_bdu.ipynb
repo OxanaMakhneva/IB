{
  "cells": [
    {
      "cell_type": "code",
      "execution_count": 75,
      "metadata": {
        "colab": {
          "base_uri": "https://localhost:8080/"
        },
        "id": "GwUc7A0xVFe2",
        "outputId": "e6102ad8-e575-4703-a99b-67eb114b28e1"
      },
      "outputs": [
        {
          "output_type": "stream",
          "name": "stdout",
          "text": [
            "Looking in indexes: https://pypi.org/simple, https://us-python.pkg.dev/colab-wheels/public/simple/\n",
            "Requirement already satisfied: python-docx in /usr/local/lib/python3.10/dist-packages (0.8.11)\n",
            "Requirement already satisfied: lxml>=2.3.2 in /usr/local/lib/python3.10/dist-packages (from python-docx) (4.9.2)\n",
            "Looking in indexes: https://pypi.org/simple, https://us-python.pkg.dev/colab-wheels/public/simple/\n",
            "Requirement already satisfied: tqdm in /usr/local/lib/python3.10/dist-packages (4.65.0)\n"
          ]
        }
      ],
      "source": [
        "!pip install python-docx\n",
        "!pip install tqdm"
      ]
    },
    {
      "cell_type": "code",
      "execution_count": 76,
      "metadata": {
        "id": "82w1GF63znES"
      },
      "outputs": [],
      "source": [
        "import pandas as pd\n",
        "import numpy as np\n",
        "import re\n",
        "import docx\n",
        "from docx import Document\n",
        "from docx.enum.text import WD_ALIGN_PARAGRAPH\n",
        "from docx.enum.section import WD_SECTION, WD_ORIENT\n",
        "from docx.enum.table import WD_ALIGN_VERTICAL\n",
        "from docx.shared import Mm, Cm, Pt\n",
        "from pathlib import Path\n",
        "\n"
      ]
    },
    {
      "cell_type": "code",
      "source": [
        "def read_data(file_name, format, about):\n",
        "    read_com = {\"csv\": pd.read_csv, \"xlsx\": pd.read_excel}\n",
        "    data_path = Path(file_name).absolute()\n",
        "    try:\n",
        "        data = read_com[format](data_path)\n",
        "    except Exception as err:\n",
        "        print(f\"При считывании данных c {about} возникла ошибка {err}\")\n",
        "        file_name = input(f\"Введите путь до файла с {about}: \")\n",
        "        data = read_data(file_name, format, about)\n",
        "    return data"
      ],
      "metadata": {
        "id": "CVEVXdT_NSVO"
      },
      "execution_count": 77,
      "outputs": []
    },
    {
      "cell_type": "code",
      "source": [
        "\"\"\"\n",
        "Семейство функций для обработки ДФ\n",
        "\"\"\"\n",
        "#Функция для выявления из списка наиболее критического уровня опасности для каждой уязвимости\n",
        "def calc_max_level(one_str):\n",
        "  rang_levels = {'Критический': 1, 'Высокий': 2, 'Средний': 3, 'Низкий':4, 'Нет': 5}\n",
        "  rang_levels_rev = {1: 'Критический', 2: 'Высокий', 3: 'Средний', 4: 'Низкий', 5: 'Нет', 6: 'Ошибка'} \n",
        "  levels = []\n",
        "  for one in one_str.split('\\n'):\n",
        "    level = rang_levels.get(one.split(' ')[0], 0)\n",
        "    if not level:\n",
        "      print(one)\n",
        "    else:\n",
        "      levels.append(level)\n",
        "  try:\n",
        "    new_level = rang_levels_rev[min(levels)]\n",
        "  except:\n",
        "    new_level = 'Ошибка'\n",
        "  return new_level\n",
        "\n",
        "#Функция для преобразования столбца с данными в тип datetime с обработкой невернозаписанных дат\n",
        "def change_date(str_d):\n",
        "  try:\n",
        "    date = pd.to_datetime(str_d, format='%d.%m.%Y')\n",
        "  except:\n",
        "    print(f'В БД выявлена некорректная дата: {str_d}, введите корректную дату в формате ДД.ММ.ГГГГ')\n",
        "    str_d = input()\n",
        "    date = change_date(str_d)\n",
        "  return date"
      ],
      "metadata": {
        "id": "pq7R5tLR_a4K"
      },
      "execution_count": 78,
      "outputs": []
    },
    {
      "cell_type": "code",
      "execution_count": 79,
      "metadata": {
        "id": "UvlhRkDGH0Im"
      },
      "outputs": [],
      "source": [
        "\"\"\"\n",
        "Семейство функций для расчета различных вспомогательных словарей сопоставления \n",
        "и отбора данных, релевантных установленному ПО\n",
        "\"\"\"\n",
        "#Функция для расчета словаря-сопоставления {название версии: название ПО}\n",
        "def calc_bd_version_dict(data):\n",
        "  #РАсчет всех названия версий\n",
        "  all_versions = list(set(', '.join(data.version).split(',')))\n",
        "\n",
        "  #Расчет словаря-сопоставления {название версии: название ПО}\n",
        "  bd_vers_names = {}\n",
        "  template = re.compile(r'(.+)([(]{1})(.+)([)]{1})')\n",
        "  for version in all_versions:\n",
        "    try:\n",
        "      assign_name = re.search(template, version)[3]\n",
        "      bd_vers_names[version] = assign_name\n",
        "    except:\n",
        "      bd_vers_names[version] = version\n",
        "  return bd_vers_names\n",
        "\n",
        "\n",
        "#Функция для фильтрации БДУ по заданному перечню ПО\n",
        "def search_common_soft(one_str, bd_pc_soft):\n",
        "  if type(one_str) == str:\n",
        "    ours = []\n",
        "    for one_element in one_str.split(','):\n",
        "      if bd_pc_soft.get(one_element):\n",
        "        ours.append(one_element)\n",
        "      else:\n",
        "        pass\n",
        "    if len(ours) > 0:\n",
        "      return ', '.join(ours)\n",
        "    else:\n",
        "      return 'no'\n",
        "  else:\n",
        "    print('problem 66', type(one_str), one_str)\n",
        "    return \"one_str\"\n",
        "\n",
        "\n",
        "#Функция для расчета словаря - соответсвия {название из бду: [названия из установленного ПО]}\n",
        "def search_common_dict(soft_bd, soft_pc, k1, k2):\n",
        "  ours = {}\n",
        "  for one_bd in soft_bd:\n",
        "    for one_pc in soft_pc:\n",
        "      if calc_equal(norm_sentence(one_bd), norm_sentence(one_pc), 3, k1) > k2:\n",
        "        if ours.get(one_bd):\n",
        "          ours[one_bd].append(one_pc)\n",
        "        else:\n",
        "          ours[one_bd] = [one_pc]\n",
        "      else:\n",
        "        pass\n",
        "  ours = {key: list(set(value)) for key, value in ours.items()}\n",
        "  return ours\n",
        "    \n"
      ]
    },
    {
      "cell_type": "code",
      "execution_count": 80,
      "metadata": {
        "id": "azqy8xDF9A3Z"
      },
      "outputs": [],
      "source": [
        "\"\"\"\n",
        "Семейство функций для подготовки отчета в формате word\n",
        "\"\"\"\n",
        "def create_word_table(doc, data, dict_indexes, widths):\n",
        "    # добавляем таблицу с одной строкой для заполнения названий колонок\n",
        "    table = doc.add_table(1, len(data.columns))\n",
        "    # определяем стиль таблицы\n",
        "    table.style = 'Light Grid Accent 1'\n",
        "    table.autofit = True\n",
        "    # Получаем указатель на строку с названием колонок из добавленной таблицы\n",
        "    head_row = table.rows[0].cells\n",
        "    # добавляем названия колонок\n",
        "    for idx, name in enumerate(data.columns):\n",
        "        head_row[idx].width = Mm(widths[idx])\n",
        "        paragraf = head_row[idx].paragraphs[0]\n",
        "        # название колонки\n",
        "        paragraf.add_run(name).bold = True\n",
        "        # выравниваем по ширине посередине\n",
        "        paragraf.alignment = WD_ALIGN_PARAGRAPH.CENTER\n",
        "    #Расчитываем длину словаря с объединенными стороками\n",
        "    # добавляем данные к существующей таблице\n",
        "    for ind_row in range((data.shape[0])):\n",
        "      if dict_indexes:\n",
        "        name = dict_indexes.get(ind_row, None)\n",
        "      else:\n",
        "        name = None\n",
        "      # добавляем строку с ячейками к объекту таблицы\n",
        "      if name:\n",
        "        add_row = table.add_row().cells\n",
        "        a = add_row[0]\n",
        "        b = add_row[data.shape[-1] - 1]\n",
        "        A = a.merge(b)\n",
        "        paragraf = A.paragraphs[0]\n",
        "        paragraf.add_run(name).bold = True\n",
        "        paragraf.alignment = WD_ALIGN_PARAGRAPH.CENTER\n",
        "        A.vertical_alignment = WD_ALIGN_VERTICAL.CENTER\n",
        "      add_row = table.add_row().cells\n",
        "      for ind_col in range(data.shape[-1]):\n",
        "          # вставляем данные в ячейки\n",
        "          paragraf = add_row[ind_col].paragraphs[0]\n",
        "          paragraf.add_run(str(data.values[ind_row, ind_col])).bold = False\n",
        "          paragraf.alignment = WD_ALIGN_PARAGRAPH.CENTER\n",
        "          #Выравнивание в ячейке по центру\n",
        "          add_row[ind_col].vertical_alignment = WD_ALIGN_VERTICAL.CENTER\n",
        "\n",
        "#Функция для создания документа Word\n",
        "def create_myword(sets: list, file_name, dict_indexes: list, widths: list):\n",
        "    #Создаем документ\n",
        "    doc = Document()\n",
        "    # доступ к первой секции:\n",
        "    section = doc.sections[0]\n",
        "    # ориетация страницы\n",
        "    new_width, new_height = section.page_height, section.page_width\n",
        "    section.orientation = WD_ORIENT.LANDSCAPE\n",
        "    section.page_width = new_width\n",
        "    section.page_height = new_height\n",
        "    # левое поле в миллиметрах\n",
        "    section.left_margin = Mm(10)\n",
        "    # правое поле в миллиметрах\n",
        "    section.right_margin = Mm(10)\n",
        "    section.top_margin = Mm(10)\n",
        "    section.bottom_margin = Mm(5)\n",
        "    # изменяем стиль текста по умолчанию\n",
        "    style = doc.styles['Normal']\n",
        "    # название шрифта по умолчанию\n",
        "    style.font.name = 'Times New Roman'\n",
        "    # размер шрифта по умолчанию\n",
        "    style.font.size = Pt(9)\n",
        "    for idx, data in enumerate(sets):\n",
        "        paragraf = doc.add_paragraph(f'Таблица № {idx + 1}')\n",
        "        paragraf_format = paragraf.paragraph_format\n",
        "        paragraf_format.alignment = WD_ALIGN_PARAGRAPH.LEFT\n",
        "        paragraf_format.left_indent = Mm(0)\n",
        "        paragraf_format.space_before = Pt(20)\n",
        "        paragraf_format.space_after = Pt(10)\n",
        "        create_word_table(doc, data, dict_indexes[idx], widths[idx])\n",
        "    try:\n",
        "        doc.save(file_name)\n",
        "    except Exception as other:\n",
        "        print(f'Не удалось сохранить файл. Ошибка {other}')"
      ]
    },
    {
      "cell_type": "code",
      "execution_count": 81,
      "metadata": {
        "id": "-We6S369G5vh"
      },
      "outputs": [],
      "source": [
        "\"\"\"\n",
        "Семейство функций, чтобы сопоставить название ПО из ПК и ПО из БД \n",
        "(подобрать коррелированные друг с другом строчки)\n",
        "\"\"\"\n",
        "\n",
        "#Отчищает строку от мусора\n",
        "def norm_sentence(soft_name):\n",
        "    #Строчные буквы\n",
        "    soft_name = soft_name.lower()\n",
        "    #Исключаем кавычки, переводы строки\n",
        "    soft_name = re.sub(\"\"\"^\\s+|'|\"|\\n|\\r|\\s+$\"\"\", '', soft_name)\n",
        "    #Исключаем повторяющиеся пробелы\n",
        "    soft_name = \" \".join(soft_name.split())\n",
        "    return soft_name\n",
        "\n",
        "#Разделяет строку на кусочкис наложением\n",
        "def get_tokens(soft_name):\n",
        "    words = soft_name.split(' ')\n",
        "    tokens = [word for word in words if len(word) > 2]\n",
        "    return tokens\n",
        "\n",
        "#Проверяет похожесть двух кусочков\n",
        "def is_tokens_equal(first_token, second_token, subtoken_len, true_limit):\n",
        "    first_number = len(first_token) - subtoken_len + 1\n",
        "    second_number = len(second_token) - subtoken_len + 1\n",
        "    used_tokens = [False for ind in range(second_number)]\n",
        "    equal_count = 0\n",
        "    for first_ind in range(first_number):\n",
        "        subtoken_first = first_token[first_ind : first_ind + subtoken_len]\n",
        "        for second_ind in range(second_number):\n",
        "            if not used_tokens[second_ind]:\n",
        "                subtoken_second = second_token[first_ind : first_ind + subtoken_len]\n",
        "                if subtoken_first == subtoken_second:\n",
        "                    equal_count = equal_count + 1\n",
        "                    used_tokens[second_ind] = True\n",
        "                    break\n",
        "    subtoken_first_count = len(first_token) - subtoken_len + 1\n",
        "    subtoken_second_count = len(second_token) - subtoken_len + 1\n",
        "    tanimoto = (1.0 * equal_count) / (subtoken_first_count + subtoken_second_count - equal_count)\n",
        "    return tanimoto > true_limit\n",
        "\n",
        "#Перевирает все кусочки из двух строк и собирает только одинаковые в отдельный список\n",
        "def get_equals_tokens(tokens_first, tokens_second, subtoken_len, true_limit):\n",
        "    equals_tokens = []\n",
        "    used_token = [False for ind in range(len(tokens_second))]\n",
        "    for first_ind in range(len(tokens_first)):\n",
        "        for second_ind in range(len(tokens_second)):\n",
        "            if not used_token[second_ind]:\n",
        "                if is_tokens_equal(tokens_first[first_ind], tokens_second[second_ind], subtoken_len, true_limit):\n",
        "                    equals_tokens.append(tokens_first[first_ind])\n",
        "                    used_token[second_ind] = True\n",
        "                    break\n",
        "    return equals_tokens\n",
        "\n",
        "#Определяет степень одинаковости строк\n",
        "def calc_equal(first_word, second_word, subtoken_len, true_limit):\n",
        "    tokens_first = get_tokens(norm_sentence(first_word))\n",
        "    tokens_second = get_tokens(norm_sentence(second_word))\n",
        "    equals_tokens = get_equals_tokens(tokens_first, tokens_second, subtoken_len, true_limit)\n",
        "    equals_count = len(equals_tokens)\n",
        "    first_count = len(tokens_first)\n",
        "    second_count = len(tokens_second)\n",
        "    if first_count + second_count - equals_count != 0:\n",
        "      result_value = (1.0 * equals_count) / (first_count + second_count - equals_count)\n",
        "    else:\n",
        "      result_value = 1\n",
        "\n",
        "    #print(result_value)\n",
        "    return result_value"
      ]
    },
    {
      "cell_type": "code",
      "source": [
        "\"\"\"\n",
        "Семейство функций чтобы выявить версии ПО из БД, \n",
        "которые пересекаются с версиями ПО из ПК\n",
        "\"\"\" \n",
        "#Функция, которая на основании словаря {версии БД: названия ПО БД} и\n",
        "#словаря {названия ПО БД: названия ПО ПК} определяет список версий из БД,\n",
        "#актуальных для ПО из ПК\n",
        "def calc_actual_versions(bd_vers_names, bd_pc_soft, name_vers_pc):\n",
        "  actuals = []\n",
        "  for vers_from_bd in bd_vers_names.keys():\n",
        "    actual = False  \n",
        "    #Ищем устновленное ПО, связанное с ПО из БД\n",
        "    name_from_bd = bd_vers_names[vers_from_bd]\n",
        "    list_name_from_pc = bd_pc_soft[name_from_bd]\n",
        "    #Для каждого установленного ПО ищем все его версии\n",
        "    for name_from_pc in list_name_from_pc:\n",
        "      if actual == True:\n",
        "        break\n",
        "      else:\n",
        "        vers_from_pc = name_vers_pc[name_from_pc]\n",
        "        #Для каждой найденное версии проверяем актуальность\n",
        "        if vers_from_pc:\n",
        "          if type(vers_from_pc) != list:\n",
        "            vers_from_pc = [vers_from_pc]\n",
        "          for ver_from_pc in vers_from_pc:\n",
        "            if actual == True:\n",
        "              break\n",
        "            else:\n",
        "              if str(ver_from_pc) == 'nan':\n",
        "                actual == False\n",
        "              else:\n",
        "                actual = decision_by_vers(vers_from_bd, ver_from_pc)\n",
        "      if actual == True:\n",
        "        actuals.append(vers_from_bd)\n",
        "      else:\n",
        "        pass\n",
        "  return actuals\n",
        "\n",
        "#Определяет атуальность для одной записи\n",
        "def decision_by_vers(vers_string, pc_string):\n",
        "  template_eq = re.compile(r'(\\b)((\\d{1,}[.]{,1})+)(\\b)')\n",
        "  pc_numbers = calc_comb_numb(pc_string, template_eq, 2)\n",
        "  t, ot, do, eq = calc_vers_type(vers_string)\n",
        "  if t == \"do\":\n",
        "    actual = decision_do(do, pc_numbers)\n",
        "  elif t == \"ot\":\n",
        "    actual = decision_ot(ot, pc_numbers)\n",
        "  elif t == \"between\":\n",
        "    actual_do = decision_do(do, pc_numbers)\n",
        "    actual_ot = decision_ot(ot, pc_numbers)\n",
        "    if actual_ot and actual_do:\n",
        "      return True\n",
        "    else:\n",
        "      return False\n",
        "  else:\n",
        "    if eq == pc_numbers:\n",
        "      return True\n",
        "    else:\n",
        "      return False\n",
        "  return actual\n",
        "\n",
        "#Определяет актульность в случае,если у нас версия записана, как до ХХХ\n",
        "def decision_do(bd_numbers, pc_numbers):\n",
        "  actual = True\n",
        "  max_ind = min([len(bd_numbers), len(pc_numbers)])\n",
        "  for ind in range(max_ind):\n",
        "    if pc_numbers[ind] < bd_numbers[ind]:\n",
        "      #Считаем что ubd - актуальна\n",
        "      actual = True\n",
        "      break\n",
        "    elif pc_numbers[ind] == bd_numbers[ind]:\n",
        "      #Проверяем следующую позицию\n",
        "      pass\n",
        "    else:\n",
        "      #Для данного ПО с ПК уязвимость неактуальна, переодим к следующему\n",
        "      actual = False\n",
        "      break\n",
        "  return actual   \n",
        "\n",
        "#Определяет актульность в случае,если у нас версия записана, как от ХХХ\n",
        "def decision_ot(bd_numbers, pc_numbers):\n",
        "  actual = True\n",
        "  max_ind = min([len(bd_numbers), len(pc_numbers)])\n",
        "  for ind in range(max_ind):\n",
        "    if pc_numbers[ind] > bd_numbers[ind]:\n",
        "      #Считаем что ubd - актуальна\n",
        "      actual = True\n",
        "      break\n",
        "    elif pc_numbers[ind] == bd_numbers[ind]:\n",
        "      #Проверяем следующую позицию\n",
        "      pass\n",
        "    else:\n",
        "      #Для данного ПО с ПК уязвимость неактуальна, переодим к следующему\n",
        "      actual = False\n",
        "      break\n",
        "  return actual \n",
        "\n",
        "\n",
        "#Функция которая определяет как задана версия в столбце версий, варианты:\n",
        "#от <версия>\n",
        "#до <версия>\n",
        "#от <версия> до <версия>\n",
        "#<версия>\n",
        "#{номер комбинации цифр: список цифр из комбинации}\n",
        "def calc_vers_type(vers_string):\n",
        "  vers = vers_string.split()\n",
        "  template_do = re.compile(r'(.+)(до\\s+)(\\b)((\\d{1,}[.]{,1})+)(\\b)')\n",
        "  template_ot = re.compile(r'(.+)(от\\s+)(\\b)((\\d{1,}[.]{,1})+)(\\b)')\n",
        "  template_eq = re.compile(r'(\\b)((\\d{1,}[.]{,1})+)(\\b)')\n",
        "  if \"от\" in vers and \"до\" in vers:\n",
        "     t = \"between\"\n",
        "     ot = calc_comb_numb(vers_string, template_ot, 4, \"от\")\n",
        "     do = calc_comb_numb(vers_string, template_do, 4, \"до\")\n",
        "     eq = None\n",
        "  elif \"от\" not in vers and \"до\" in vers:\n",
        "    t, ot, do, eq = \"do\", None, calc_comb_numb(vers_string, template_do, 4, \"до\"), None\n",
        "  elif \"от\" in vers and \"до\" not in vers:\n",
        "    t, ot, do, eq = \"ot\", calc_comb_numb(vers_string, template_ot, 4, \"от\"), None, None\n",
        "  else:\n",
        "    t, ot, do, eq = \"eq\", None, None, calc_comb_numb(vers_string, template_eq, 2, \"равно\")\n",
        "\n",
        "  return (t, ot, do, eq)\n",
        "\n",
        "#Функция которая формирует список из найденных по шаблону цифр версии:\n",
        "def calc_comb_numb(vers_string, template, ind_template, pref = None):\n",
        "  #Любая комбинация цифр и точек\n",
        "  match_list = re.search(template, vers_string)\n",
        "  if match_list:\n",
        "    bd_numbers = [int(pos) for pos in match_list[ind_template].split('.')]\n",
        "  else:\n",
        "    template = re.compile(r'(\\b)((\\d{1,}[.]{,1})+)(\\b)')\n",
        "    vers_string = input(f'''Для строки {vers_string} не удалось выделить данные версии с префиксом {pref}. \\n\n",
        "    Введите версию вручную: ''')\n",
        "    bd_numbers = calc_comb_numb(vers_string, template, 2)\n",
        "  return bd_numbers"
      ],
      "metadata": {
        "id": "x3ypqleh6Lhw"
      },
      "execution_count": 82,
      "outputs": []
    },
    {
      "cell_type": "markdown",
      "source": [],
      "metadata": {
        "id": "22ukueg8ppw8"
      }
    },
    {
      "cell_type": "markdown",
      "metadata": {
        "id": "ZXZ8X7ME1a_P"
      },
      "source": [
        "## Загрузка и предобработка данных"
      ]
    },
    {
      "cell_type": "code",
      "execution_count": 83,
      "metadata": {
        "id": "wtuto0t11N5p"
      },
      "outputs": [],
      "source": [
        "pc_path = Path(\"/content/drive/MyDrive/Colab Notebooks/from_system.xlsx\").absolute()\n",
        "bd_path = Path(\"/content/drive/MyDrive/Colab Notebooks/vullist.xlsx\").absolute()\n",
        "\n",
        "#Загрузка данных по уязвимостям\n",
        "bd_soft = read_data(bd_path, \"xlsx\", \"уязвимостями\")\n",
        "\n",
        "#Загрузка данных по ПО с ПК\n",
        "pc_soft = read_data(pc_path, \"xlsx\", \"ПО из ИС\")"
      ]
    },
    {
      "cell_type": "markdown",
      "source": [
        "## Предобработка загруженных данных"
      ],
      "metadata": {
        "id": "7GLIy8-BdSOK"
      }
    },
    {
      "cell_type": "code",
      "source": [
        "#Обработка данных с ПК\n",
        "pc_soft.columns = ['name', 'version', 'developer', 'numb_dev', 'comment', 'ts', 'tel', 'update', 'update_rule', 'install']\n",
        "pc_soft = pc_soft.drop(['comment', 'ts', 'tel', 'update', 'update_rule'], axis = 1)\n",
        "pc_soft.numb_dev = pc_soft.numb_dev.transform(lambda x: -1 if x == 'Не поддерживается' else x)\n",
        "#Удаление чисел\n",
        "template = re.compile(r'(\\d+)')\n",
        "pc_soft.name = pc_soft.name.transform(lambda x: re.sub(template, '', x, count=0))\n",
        "\n",
        "#Поиск всех уникальных названий ПО, установленных на ПК\n",
        "pc_soft_names = [element for element in list(set(pc_soft.name.transform(lambda x: norm_sentence(x)).values)) \\\n",
        "        if len(element) > 1]"
      ],
      "metadata": {
        "id": "1qweS8LVybNT"
      },
      "execution_count": 84,
      "outputs": []
    },
    {
      "cell_type": "code",
      "execution_count": 85,
      "metadata": {
        "id": "mA0QPxO22Nbo",
        "colab": {
          "base_uri": "https://localhost:8080/"
        },
        "outputId": "6b551a94-8aaa-4d94-a5c5-858be3e4f7cb"
      },
      "outputs": [
        {
          "name": "stdout",
          "output_type": "stream",
          "text": [
            "В БД выявлена некорректная дата: 28.07.0202, введите корректную дату в формате ДД.ММ.ГГГГ\n",
            "28.07.2020\n",
            "Введите дату, с которой вывести уязвимости 01.01.2023\n"
          ]
        }
      ],
      "source": [
        "bd_soft = bd_soft.iloc[2:,:]\n",
        "bd_soft.columns = ['id', 'name', 'about', 'vendor', 'soft', 'version', 'type',\\\n",
        "                'OS', 'class', 'date', 'cvss_2', 'cvss_3', 'level','mera', \\\n",
        "                'status', 'exployt', 'fix', 'source', 'cve', 'info', \\\n",
        "                'name_error', 'type_error']\n",
        "\n",
        "#Перевод дат в тип datetime\n",
        "bd_soft.date = bd_soft.date.transform(lambda x: change_date(x))\n",
        "\n",
        "#Выборка только тех данных, которые актуальны для заданного периода\n",
        "user_date = pd.to_datetime(input(\"Введите дату, с которой вывести уязвимости \"),\\\n",
        "                           format='%d.%m.%Y')\n",
        "bd_soft = bd_soft.query('date > @user_date')"
      ]
    },
    {
      "cell_type": "code",
      "execution_count": 86,
      "metadata": {
        "id": "VgkInr4HuXlE"
      },
      "outputs": [],
      "source": [
        "#Обработка столбца с версиями\n",
        "#Удаление пропущенных значений\n",
        "bd_soft = bd_soft.dropna(subset = ['version'], axis = 0)\n",
        "\n",
        "#Удаление дубликатов внутри списков с версиями \n",
        "bd_soft.version = bd_soft.version.transform(lambda x: ', '.join(sorted(list(set(map(str.strip, x.split(',')))))))\n"
      ]
    },
    {
      "cell_type": "markdown",
      "source": [
        "### Поиск всех уникальных комбинаций версия (название ПО) в ДФ БДУ "
      ],
      "metadata": {
        "id": "ZStW9x_mVOwy"
      }
    },
    {
      "cell_type": "code",
      "source": [
        "#Удаление пропущенных значений в версиях\n",
        "bd_soft = bd_soft.dropna(subset = ['version'], axis = 0)\n",
        "\n",
        "#Удаление дубликатов внутри списков с версиями \n",
        "bd_soft.version = bd_soft.version.transform(lambda x: ', '.join(sorted(list(set(map(str.strip, x.split(',')))))))\n",
        "\n",
        "#Расчет словаря-сопоставления {название версии: название ПО}\n",
        "bd_vers_names = calc_bd_version_dict(bd_soft)"
      ],
      "metadata": {
        "id": "MNYoDZVhRrby"
      },
      "execution_count": 87,
      "outputs": []
    },
    {
      "cell_type": "markdown",
      "source": [
        "### Отбор из БДУ только тех записей, которые можно сопоставить с записями с ПК"
      ],
      "metadata": {
        "id": "ZA_nuuZzV4vb"
      }
    },
    {
      "cell_type": "code",
      "source": [
        "#Расчет словаря {название ПО из БД: [все уникальные подходящие навазания из ПК]}\n",
        "bd_pc_soft = search_common_dict(list(set(bd_vers_names.values())), pc_soft_names, 0.8, 0.5)\n",
        "\n",
        "#Выбор только тех данных, которые актуальны для заданного списка ПО\n",
        "#Расчет столбца с названиями ПО из БДУ, которым нашлись подходящие значения с ПК\n",
        "bd_soft.soft = bd_soft.soft.transform(lambda x: search_common_soft(x, bd_pc_soft))\n",
        "\n",
        "#Исключение нерелевантных записей\n",
        "bd_soft = bd_soft.query('soft != \"no\"')\n",
        "\n",
        "#Пересчет словаря сопоставления {название версии: название ПО}\n",
        "bd_vers_names = calc_bd_version_dict(bd_soft)\n",
        "\n",
        "#Исключаем из словаря сопоставления названия версий, которые связаны с названиями ПО, которого нет на ПК\n",
        "bd_vers_names = {key: value for key, value in bd_vers_names.items() if bd_pc_soft.get(value)}\n"
      ],
      "metadata": {
        "id": "z6UJdwCnXU7K"
      },
      "execution_count": 88,
      "outputs": []
    },
    {
      "cell_type": "markdown",
      "source": [
        "### Обработка столбцов в отфильтрованом ДФ БДУ"
      ],
      "metadata": {
        "id": "kTICItujU0qR"
      }
    },
    {
      "cell_type": "code",
      "execution_count": 89,
      "metadata": {
        "id": "5CmKWR570sJm",
        "colab": {
          "base_uri": "https://localhost:8080/"
        },
        "outputId": "f47b2b39-7564-48c3-d369-be911d16ec17"
      },
      "outputs": [
        {
          "output_type": "stream",
          "name": "stderr",
          "text": [
            "<ipython-input-89-50eb23293ea2>:2: SettingWithCopyWarning: \n",
            "A value is trying to be set on a copy of a slice from a DataFrame.\n",
            "Try using .loc[row_indexer,col_indexer] = value instead\n",
            "\n",
            "See the caveats in the documentation: https://pandas.pydata.org/pandas-docs/stable/user_guide/indexing.html#returning-a-view-versus-a-copy\n",
            "  bd_soft.level = bd_soft.level.transform(lambda x:  calc_max_level(x))\n"
          ]
        }
      ],
      "source": [
        "#Расчет наиболее критических уровней опасности для каждой уязвимости\n",
        "bd_soft.level = bd_soft.level.transform(lambda x:  calc_max_level(x))"
      ]
    },
    {
      "cell_type": "markdown",
      "source": [
        "### Отсеивание неактуальных версий"
      ],
      "metadata": {
        "id": "X02110CT7r8H"
      }
    },
    {
      "cell_type": "code",
      "source": [
        "#Расчет словаря {название ПО на ПК: название версии на ПК}\n",
        "all_names = list(pc_soft.name.values)\n",
        "all_vers = list(pc_soft.version.values)\n",
        "name_vers_pc = {norm_sentence(all_names[ind]): all_vers[ind] for ind in range(len(all_names))}\n",
        "\n",
        "#Расчет списка актуальных версий\n",
        "actual_vers = calc_actual_versions(bd_vers_names, bd_pc_soft, name_vers_pc)\n",
        "\n",
        "#Удаляем из словаря сопоставления все версии из БДУ, которые не признаны актуальными\n",
        "bd_vers_names = {key: value for key, value in bd_vers_names.items() if key in actual_vers}"
      ],
      "metadata": {
        "id": "pM8prBh87zNe"
      },
      "execution_count": 90,
      "outputs": []
    },
    {
      "cell_type": "markdown",
      "metadata": {
        "id": "Uye30Qk93WEo"
      },
      "source": [
        "## Подготовка первого ДФ, в котором центральными элементами будут не уязвимости, а название ПО и его версии"
      ]
    },
    {
      "cell_type": "code",
      "execution_count": 91,
      "metadata": {
        "id": "d5RRJHgN4Gzj"
      },
      "outputs": [],
      "source": [
        "#Расчет словаря с уровнями опасностей, на базе которого будет построен отдельный ДФ\n",
        "#{название столбца с уровнем опасности: [строки с перечислением уязвимостей для каждой версии]}\n",
        "\n",
        "#НАзвания уровней опасности\n",
        "all_levels = ['Критический', 'Высокий', 'Средний', 'Низкий', 'Нет']\n",
        "all_levels_name = ['critic', 'hight', 'medium', 'low', 'no']\n",
        "\n",
        "\n",
        "#Расчет словаря  {версия: {уровень: [список уязвимостей]}},где:\n",
        "#- версия - это ключи из всех уникальных версий (all_versions)\n",
        "#- уровень - это ключи из всех уникальных названий уровней опасности (all_levels)\n",
        "#Шаблон словаря\n",
        "ubds = {version: {level: [] for level in all_levels} for version in bd_vers_names.keys()}\n",
        "\n",
        "#Заполнение промежуточного словаря\n",
        "for index, row in bd_soft.iterrows():\n",
        "  for version in  bd_vers_names.keys():\n",
        "    if version in row.version.split(','):\n",
        "      ubds[version][row.level].append(row.id)\n",
        "\n",
        "#Заполнение основного словаря\n",
        "levels = \\\n",
        "{all_levels_name[idx]: ['; '.join(ubds[version][all_levels[idx]]) for version in bd_vers_names.keys()] \\\n",
        "                       for idx in range(len(all_levels))}\n",
        "\n",
        "#Добавление к словарю данных по названиям версий\n",
        "levels['version'] = bd_vers_names.keys()\n",
        "\n",
        "#Посторение ДФ\n",
        "df_levels = pd.DataFrame(levels)"
      ]
    },
    {
      "cell_type": "code",
      "execution_count": 92,
      "metadata": {
        "id": "kBsO7mkL7rUU"
      },
      "outputs": [],
      "source": [
        "#Расчет словаря с данными по ПО, на базе которого будет построен отдельный ДФ\n",
        "#Для каждой уникальной комбинации заполянем столбцы (ПО, производитель, список уязвимостей)\n",
        "soft = pd.DataFrame({'version':  bd_vers_names.keys(), 'name':  bd_vers_names.values()})\n",
        "\n",
        "#Объединение с данными по уровням опасности\n",
        "soft = df_levels.merge(soft, on = 'version')\n",
        "del df_levels\n",
        "\n",
        "#Перестановка столбцов\n",
        "soft = soft[['name', 'version', 'critic', 'hight', 'medium', 'low']].sort_values(by = 'name')\n",
        "\n",
        "#Отчищение от записей без уязвимостей\n",
        "soft = soft.query(\"critic != '' or medium != '' or hight != '' or low != ''\")"
      ]
    },
    {
      "cell_type": "code",
      "execution_count": 93,
      "metadata": {
        "id": "qy1i7yuE8B82"
      },
      "outputs": [],
      "source": [
        "#Расчет индексов общих строк для объединения в таблице word\n",
        "#Расчет индексов начала новой группировки ПО (по названию)\n",
        "name_indexes = soft.name.value_counts().sort_index(ascending = True).cumsum().shift(1).fillna(0)\n",
        "name_indexes = name_indexes.astype(int)\n",
        "name_indexes = name_indexes.to_dict()\n",
        "\n",
        "#Словарь с индексами (индекс - фактически номер строчки в таблице, в которой впервые встречается новое название ПО)\n",
        "dict_indexes = {value: key for key, value in name_indexes.items()}"
      ]
    },
    {
      "cell_type": "markdown",
      "source": [
        "## Подготовка второго ДФ таблицы с описанием всех уязвимостей, которые актальны для ПО к ПК"
      ],
      "metadata": {
        "id": "kivL5FTPkgcE"
      }
    },
    {
      "cell_type": "code",
      "source": [
        "u_cols = ['critic', 'hight', 'medium', 'low']\n",
        "for col in u_cols:\n",
        "    soft[f'{col}_cumsum'] = soft[col].transform(lambda x: x + \";\" if x else x)\n",
        "\n",
        "#Формируем список всех актуальных уязвимостей (собираем все из отчетного ДФ)\n",
        "cumsum_cols = ['critic_cumsum', 'hight_cumsum', 'medium_cumsum', 'low_cumsum']\n",
        "all_us = list(set(map(str.strip, soft[cumsum_cols].sum().sum().split(\";\"))))\n",
        "\n",
        "#Отфильтровываем ДФ с инф. об уязвимостях по списку актуальных версий\n",
        "soft = soft.drop(cumsum_cols, axis = 1)\n",
        "bd_soft = bd_soft.query('id in @all_us')"
      ],
      "metadata": {
        "id": "2NlKq9NFkwfr"
      },
      "execution_count": 94,
      "outputs": []
    },
    {
      "cell_type": "code",
      "source": [
        "# #Запись полученного ДФ в таблицу word\n",
        "width_1 = [100, 400, 400, 400, 400]\n",
        "width_2 = [100, 100, 100, 100, 100, 100, 100]\n",
        "\n",
        "need_col = ['id', 'name', 'class', 'date', 'level', 'mera', 'fix']\n",
        "\n",
        "create_myword([soft.drop('name', axis = 1), bd_soft[need_col]], \"new_test.docx\", [dict_indexes, None], [width_1, width_2])"
      ],
      "metadata": {
        "id": "jYWH3jPl6blt"
      },
      "execution_count": 95,
      "outputs": []
    }
  ],
  "metadata": {
    "colab": {
      "provenance": []
    },
    "kernelspec": {
      "display_name": "Python 3",
      "name": "python3"
    },
    "language_info": {
      "name": "python"
    }
  },
  "nbformat": 4,
  "nbformat_minor": 0
}